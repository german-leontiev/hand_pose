{
 "cells": [
  {
   "cell_type": "markdown",
   "id": "97701555-398e-4943-8505-b31bac713545",
   "metadata": {},
   "source": [
    "# Обученме модели определения ключевых точек руки"
   ]
  },
  {
   "cell_type": "code",
   "execution_count": 1,
   "id": "6c6128c3-8081-4720-ac22-b268ac182066",
   "metadata": {},
   "outputs": [],
   "source": [
    "import torch\n",
    "import torch.nn as nn\n",
    "import torch.nn.functional as F\n",
    "import torch.optim as optim\n",
    "from torch.utils.data import Dataset, DataLoader\n",
    "\n",
    "import timm\n",
    "\n",
    "import json\n",
    "from glob import glob\n",
    "\n",
    "import json\n",
    "import cv2\n",
    "import numpy as np\n",
    "from glob import glob\n",
    "import numpy as np\n",
    "import cv2\n",
    "\n",
    "from PIL import Image\n",
    "\n",
    "from tqdm import tqdm\n",
    "\n",
    "import matplotlib.pyplot as plt\n",
    "\n",
    "import albumentations as A\n",
    "from albumentations.pytorch import ToTensorV2"
   ]
  },
  {
   "cell_type": "code",
   "execution_count": 2,
   "id": "703f630b-fd94-4959-a907-b607e28466da",
   "metadata": {},
   "outputs": [],
   "source": [
    "images_paths = glob(\"FreiHAND_pub_v2/training/rgb/*\")[:32560]"
   ]
  },
  {
   "cell_type": "code",
   "execution_count": 15,
   "id": "4950d92e-a095-4d2d-be2b-3934deef9111",
   "metadata": {},
   "outputs": [],
   "source": [
    "device = 'cuda' if torch.cuda.is_available() else 'mps' if torch.backends.mps.is_available() else 'cpu'\n",
    "\n",
    "batch_size = 64"
   ]
  },
  {
   "cell_type": "code",
   "execution_count": 4,
   "id": "ed1d9dfb-13f7-445f-8168-4673cd4c8770",
   "metadata": {},
   "outputs": [],
   "source": [
    "#For Training\n",
    "def load_json_files(path = 'FreiHAND_pub_v2/'):\n",
    "    with open(f'{path}/training_K.json') as K_fp, open(f'{path}/training_verts.json') as verts_fp, open(f'{path}/training_xyz.json') as xyz_fp:\n",
    "        K_array = json.load(K_fp)\n",
    "        verts_array = json.load(verts_fp)\n",
    "        xyz_array = json.load(xyz_fp)\n",
    "        \n",
    "        return K_array, verts_array, xyz_array\n",
    "    \n",
    "def projectPoints(xyz, K):\n",
    "    \"\"\" Project 3D coordinates into image space. \"\"\"\n",
    "    xyz = np.array(xyz)\n",
    "    K = np.array(K)\n",
    "    uv = np.matmul(K, xyz.T).T\n",
    "    return uv[:, :2] / uv[:, -1:]\n",
    "\n",
    "def renderPose(img, uv):\n",
    "    connections = [[0,1], [1,2], [2,3], [3,4], \n",
    "                   [0,5], [5,6], [6,7], [7,8], \n",
    "                   [0,9], [9,10],[10,11], [11,12],\n",
    "                   [0,13],[13,14], [14,15], [15,16], \n",
    "                   [0,17],[17,18], [18,19], [19,20]]\n",
    "    for c in connections:\n",
    "        img = cv2.line(img,uv[c[0]],uv[c[1]],(255,0,0),2)\n",
    "        \n",
    "    for point in uv:\n",
    "        img = cv2.circle(img, point, 2, (0,0,255), -1)\n",
    "        \n",
    "    return img"
   ]
  },
  {
   "cell_type": "code",
   "execution_count": 5,
   "id": "1b3ee51c-f770-42e7-80ef-a82d70ad969c",
   "metadata": {},
   "outputs": [],
   "source": [
    "def oks(y_true, y_pred, visibility):\n",
    "    # You might want to set these global constant\n",
    "    # outside the function scope\n",
    "    KAPPA = np.array([1] * len(y_true))\n",
    "    # The object scale\n",
    "    # You might need a dynamic value for the object scale\n",
    "    SCALE = 1.0\n",
    "\n",
    "    # Compute the L2/Euclidean Distance\n",
    "    distances = np.linalg.norm(y_pred - y_true, axis=-1)\n",
    "    # Compute the exponential part of the equation\n",
    "    exp_vector = np.exp(-(distances**2) / (2 * (SCALE**2) * (KAPPA**2)))\n",
    "    # The numerator expression\n",
    "    numerator = np.dot(exp_vector, visibility.astype(bool).astype(int))\n",
    "    # The denominator expression\n",
    "    denominator = np.sum(visibility.astype(bool).astype(int))\n",
    "    return numerator / denominator"
   ]
  },
  {
   "cell_type": "code",
   "execution_count": 6,
   "id": "ff158301-19dd-419f-9cec-f265520d70d4",
   "metadata": {},
   "outputs": [],
   "source": [
    "K_array, verts_array, xyz_array = load_json_files()"
   ]
  },
  {
   "cell_type": "code",
   "execution_count": 7,
   "id": "4221a3c0-1330-4274-89b8-981ef634779d",
   "metadata": {},
   "outputs": [
    {
     "name": "stderr",
     "output_type": "stream",
     "text": [
      "100%|██████████| 32560/32560 [07:03<00:00, 76.84it/s]\n"
     ]
    }
   ],
   "source": [
    "keypoints = []\n",
    "for index, image_path in enumerate(tqdm(images_paths)):\n",
    "    # Read image from path\n",
    "    image_arr = cv2.imread(image_path)\n",
    "    image_arr = cv2.cvtColor(image_arr, cv2.COLOR_BGR2RGB)\n",
    "\n",
    "    # Geting dots coordinates\n",
    "    image_height, image_width, _ = image_arr.shape\n",
    "    uv = projectPoints(xyz_array[index], K_array[index]).astype(np.int32)\n",
    "\n",
    "    # Convert to relative coordinates\n",
    "    relative_points = [[x / image_width, y / image_height] for x, y in uv]\n",
    "    keypoints.append(relative_points)"
   ]
  },
  {
   "cell_type": "code",
   "execution_count": 8,
   "id": "c594f577-f7cd-442d-abbb-7527f2960be4",
   "metadata": {},
   "outputs": [],
   "source": [
    "train_idx, val_idx = [int(i) for i in [len(images_paths) * .7, len(images_paths) * .9]]"
   ]
  },
  {
   "cell_type": "code",
   "execution_count": 9,
   "id": "3ec527f9-a9e3-482c-aca9-abea0ba16210",
   "metadata": {},
   "outputs": [],
   "source": [
    "data = [(i, k) for i, k in zip(images_paths, keypoints)]"
   ]
  },
  {
   "cell_type": "code",
   "execution_count": 10,
   "id": "ea8d759b-d99e-4210-96f6-87b0813f4396",
   "metadata": {},
   "outputs": [],
   "source": [
    "dataset = {\"train\": data[:train_idx], \"val\": data[train_idx:val_idx], \"test\": data[val_idx:]}"
   ]
  },
  {
   "cell_type": "code",
   "execution_count": 12,
   "id": "b0234ff1-1860-448f-a376-26e60fe68f32",
   "metadata": {},
   "outputs": [],
   "source": [
    "class KeypointsDataset(Dataset):\n",
    "\n",
    "    def __init__(self, meta):\n",
    "        self.meta = meta\n",
    "        self.preprocessing = A.Compose([\n",
    "            A.Resize(height=224, width=224),\n",
    "            A.Normalize(),\n",
    "            ToTensorV2()\n",
    "        ])\n",
    "\n",
    "    def __len__(self):\n",
    "        return len(self.meta)\n",
    "\n",
    "    def __getitem__(self, idx):\n",
    "        if torch.is_tensor(idx):\n",
    "            idx = idx.tolist()\n",
    "\n",
    "        image_name, relative_points = self.meta[idx]\n",
    "        image = self.preprocessing(image=image_arr)['image']\n",
    "        return image, torch.Tensor([x * 244 for y in relative_points for x in y])"
   ]
  },
  {
   "cell_type": "code",
   "execution_count": 13,
   "id": "fa30f97d-3d26-4ce5-8f79-3d9dae1dbdc2",
   "metadata": {},
   "outputs": [],
   "source": [
    "train_dataset = KeypointsDataset(meta=dataset[\"train\"])\n",
    "train_dataloader = DataLoader(train_dataset, batch_size=batch_size, shuffle=True, num_workers=0)"
   ]
  },
  {
   "cell_type": "code",
   "execution_count": 14,
   "id": "4c70a217-d89b-446f-b916-0eddd9002f71",
   "metadata": {},
   "outputs": [],
   "source": [
    "val_dataset = KeypointsDataset(meta=dataset[\"val\"])\n",
    "val_dataloader = DataLoader(val_dataset, batch_size=batch_size, shuffle=False, num_workers=0)"
   ]
  },
  {
   "cell_type": "code",
   "execution_count": 14,
   "id": "3a6cad06-e60c-4235-a593-d09ff2c13353",
   "metadata": {},
   "outputs": [],
   "source": [
    "model = timm.create_model('mobilenetv2_050', pretrained=True, num_classes=0)\n",
    "model.global_pool = nn.Flatten()\n",
    "model.classifier = nn.Sequential(\n",
    "    nn.Linear(62720, 42),\n",
    "    nn.Sigmoid()\n",
    ")\n",
    "model.to(device);"
   ]
  },
  {
   "cell_type": "code",
   "execution_count": 21,
   "id": "ca7710f5-12c7-4a63-a492-46d69b71462a",
   "metadata": {
    "tags": []
   },
   "outputs": [],
   "source": [
    "# Возьмем предобученную модель и перепишем классификатор \n",
    "model_name = 'tf_efficientnetv2_s_in21k'\n",
    "model = timm.create_model(model_name, pretrained=True).to(\"cuda\")\n",
    "\n",
    "model\n",
    "additional_layers = nn.Sequential(\n",
    "    nn.Linear(1280, 512),\n",
    "    nn.ReLU(),\n",
    "    nn.Linear(512, 256),\n",
    "    nn.ReLU()\n",
    ")\n",
    "model.classifier = nn.Sequential(\n",
    "    nn.Linear(256, 42)\n",
    ")\n",
    "\n",
    "model.classifier = nn.Sequential(additional_layers, model.classifier)\n",
    "_ = model.to(\"cuda\")"
   ]
  },
  {
   "cell_type": "code",
   "execution_count": 22,
   "id": "316f9585-3e46-4de5-a34c-89dabb15f087",
   "metadata": {},
   "outputs": [],
   "source": [
    "EPOCHS = 100\n",
    "lr = 0.001\n",
    "\n",
    "optimizer = optim.AdamW(model.parameters(), lr)\n",
    "\n",
    "criterion = nn.MSELoss()"
   ]
  },
  {
   "cell_type": "code",
   "execution_count": null,
   "id": "197da82c-711f-4ddc-88b8-4b42924d7c44",
   "metadata": {},
   "outputs": [
    {
     "name": "stderr",
     "output_type": "stream",
     "text": [
      "Epoch: 0: 100%|██████████| 713/713 [03:07<00:00,  3.80it/s]\n"
     ]
    },
    {
     "name": "stdout",
     "output_type": "stream",
     "text": [
      "Training loss: 847.2515109839312\n",
      "Train OKS: 0.001310270123084948\n"
     ]
    },
    {
     "name": "stderr",
     "output_type": "stream",
     "text": [
      "Epoch: 0: 100%|██████████| 204/204 [00:17<00:00, 11.92it/s]\n"
     ]
    },
    {
     "name": "stdout",
     "output_type": "stream",
     "text": [
      "Val OKS: 0.0013784051193189441\n"
     ]
    },
    {
     "name": "stderr",
     "output_type": "stream",
     "text": [
      "Epoch: 1: 100%|██████████| 713/713 [03:07<00:00,  3.80it/s]\n"
     ]
    },
    {
     "name": "stdout",
     "output_type": "stream",
     "text": [
      "Training loss: 591.1047540908107\n",
      "Train OKS: 0.001304481301801068\n"
     ]
    },
    {
     "name": "stderr",
     "output_type": "stream",
     "text": [
      "Epoch: 1: 100%|██████████| 204/204 [00:16<00:00, 12.00it/s]\n"
     ]
    },
    {
     "name": "stdout",
     "output_type": "stream",
     "text": [
      "Val OKS: 0.0013292805017588506\n"
     ]
    },
    {
     "name": "stderr",
     "output_type": "stream",
     "text": [
      "Epoch: 2: 100%|██████████| 713/713 [03:03<00:00,  3.88it/s]\n"
     ]
    },
    {
     "name": "stdout",
     "output_type": "stream",
     "text": [
      "Training loss: 589.3900016795368\n",
      "Train OKS: 0.0012824950778635015\n"
     ]
    },
    {
     "name": "stderr",
     "output_type": "stream",
     "text": [
      "Epoch: 2: 100%|██████████| 204/204 [00:15<00:00, 13.57it/s]\n"
     ]
    },
    {
     "name": "stdout",
     "output_type": "stream",
     "text": [
      "Val OKS: 0.001390356103175049\n"
     ]
    },
    {
     "name": "stderr",
     "output_type": "stream",
     "text": [
      "Epoch: 3: 100%|██████████| 713/713 [02:47<00:00,  4.27it/s]\n"
     ]
    },
    {
     "name": "stdout",
     "output_type": "stream",
     "text": [
      "Training loss: 588.6575066993146\n",
      "Train OKS: 0.0013340267489594802\n"
     ]
    },
    {
     "name": "stderr",
     "output_type": "stream",
     "text": [
      "Epoch: 3: 100%|██████████| 204/204 [00:14<00:00, 14.19it/s]\n"
     ]
    },
    {
     "name": "stdout",
     "output_type": "stream",
     "text": [
      "Val OKS: 0.0009928857518787682\n"
     ]
    },
    {
     "name": "stderr",
     "output_type": "stream",
     "text": [
      "Epoch: 4: 100%|██████████| 713/713 [02:51<00:00,  4.17it/s]\n"
     ]
    },
    {
     "name": "stdout",
     "output_type": "stream",
     "text": [
      "Training loss: 589.7308838404244\n",
      "Train OKS: 0.0012723920547836574\n"
     ]
    },
    {
     "name": "stderr",
     "output_type": "stream",
     "text": [
      "Epoch: 4: 100%|██████████| 204/204 [00:15<00:00, 13.14it/s]\n"
     ]
    },
    {
     "name": "stdout",
     "output_type": "stream",
     "text": [
      "Val OKS: 0.0013257729935379472\n"
     ]
    },
    {
     "name": "stderr",
     "output_type": "stream",
     "text": [
      "Epoch: 5: 100%|██████████| 713/713 [02:46<00:00,  4.28it/s]\n"
     ]
    },
    {
     "name": "stdout",
     "output_type": "stream",
     "text": [
      "Training loss: 589.3351869302244\n",
      "Train OKS: 0.0012891502857221393\n"
     ]
    },
    {
     "name": "stderr",
     "output_type": "stream",
     "text": [
      "Epoch: 5: 100%|██████████| 204/204 [00:14<00:00, 13.70it/s]\n"
     ]
    },
    {
     "name": "stdout",
     "output_type": "stream",
     "text": [
      "Val OKS: 0.0013306572104946211\n"
     ]
    },
    {
     "name": "stderr",
     "output_type": "stream",
     "text": [
      "Epoch: 6: 100%|██████████| 713/713 [02:37<00:00,  4.53it/s]\n"
     ]
    },
    {
     "name": "stdout",
     "output_type": "stream",
     "text": [
      "Training loss: 591.5362967428285\n",
      "Train OKS: 0.0012721385871754022\n"
     ]
    },
    {
     "name": "stderr",
     "output_type": "stream",
     "text": [
      "Epoch: 6: 100%|██████████| 204/204 [00:14<00:00, 13.90it/s]\n"
     ]
    },
    {
     "name": "stdout",
     "output_type": "stream",
     "text": [
      "Val OKS: 0.0009970842129147387\n"
     ]
    },
    {
     "name": "stderr",
     "output_type": "stream",
     "text": [
      "Epoch: 7: 100%|██████████| 713/713 [02:38<00:00,  4.49it/s]\n"
     ]
    },
    {
     "name": "stdout",
     "output_type": "stream",
     "text": [
      "Training loss: 588.8252140168221\n",
      "Train OKS: 0.0012864116546817345\n"
     ]
    },
    {
     "name": "stderr",
     "output_type": "stream",
     "text": [
      "Epoch: 7: 100%|██████████| 204/204 [00:14<00:00, 13.93it/s]\n"
     ]
    },
    {
     "name": "stdout",
     "output_type": "stream",
     "text": [
      "Val OKS: 0.0010358291690236536\n"
     ]
    },
    {
     "name": "stderr",
     "output_type": "stream",
     "text": [
      "Epoch: 8: 100%|██████████| 713/713 [02:38<00:00,  4.49it/s]\n"
     ]
    },
    {
     "name": "stdout",
     "output_type": "stream",
     "text": [
      "Training loss: 589.111307323397\n",
      "Train OKS: 0.0013689615559890882\n"
     ]
    },
    {
     "name": "stderr",
     "output_type": "stream",
     "text": [
      "Epoch: 8: 100%|██████████| 204/204 [00:14<00:00, 14.19it/s]\n"
     ]
    },
    {
     "name": "stdout",
     "output_type": "stream",
     "text": [
      "Val OKS: 0.001356483686247063\n"
     ]
    },
    {
     "name": "stderr",
     "output_type": "stream",
     "text": [
      "Epoch: 9: 100%|██████████| 713/713 [02:38<00:00,  4.51it/s]\n"
     ]
    },
    {
     "name": "stdout",
     "output_type": "stream",
     "text": [
      "Training loss: 588.4974985430317\n",
      "Train OKS: 0.001232697490629835\n"
     ]
    },
    {
     "name": "stderr",
     "output_type": "stream",
     "text": [
      "Epoch: 9: 100%|██████████| 204/204 [00:14<00:00, 13.98it/s]\n"
     ]
    },
    {
     "name": "stdout",
     "output_type": "stream",
     "text": [
      "Val OKS: 0.0013698418568982346\n"
     ]
    },
    {
     "name": "stderr",
     "output_type": "stream",
     "text": [
      "Epoch: 10: 100%|██████████| 713/713 [02:37<00:00,  4.53it/s]\n"
     ]
    },
    {
     "name": "stdout",
     "output_type": "stream",
     "text": [
      "Training loss: 587.7856659748778\n",
      "Train OKS: 0.0013381379413686045\n"
     ]
    },
    {
     "name": "stderr",
     "output_type": "stream",
     "text": [
      "Epoch: 10: 100%|██████████| 204/204 [00:14<00:00, 14.05it/s]\n"
     ]
    },
    {
     "name": "stdout",
     "output_type": "stream",
     "text": [
      "Val OKS: 0.0013709585707090343\n"
     ]
    },
    {
     "name": "stderr",
     "output_type": "stream",
     "text": [
      "Epoch: 11: 100%|██████████| 713/713 [02:37<00:00,  4.52it/s]\n"
     ]
    },
    {
     "name": "stdout",
     "output_type": "stream",
     "text": [
      "Training loss: 588.1434079206341\n",
      "Train OKS: 0.0013017646011987672\n"
     ]
    },
    {
     "name": "stderr",
     "output_type": "stream",
     "text": [
      "Epoch: 11: 100%|██████████| 204/204 [00:14<00:00, 14.21it/s]\n"
     ]
    },
    {
     "name": "stdout",
     "output_type": "stream",
     "text": [
      "Val OKS: 0.0012366466951118172\n"
     ]
    },
    {
     "name": "stderr",
     "output_type": "stream",
     "text": [
      "Epoch: 12: 100%|██████████| 713/713 [02:37<00:00,  4.52it/s]\n"
     ]
    },
    {
     "name": "stdout",
     "output_type": "stream",
     "text": [
      "Training loss: 587.0115560609195\n",
      "Train OKS: 0.0013169818328185145\n"
     ]
    },
    {
     "name": "stderr",
     "output_type": "stream",
     "text": [
      "Epoch: 12: 100%|██████████| 204/204 [00:14<00:00, 14.20it/s]\n"
     ]
    },
    {
     "name": "stdout",
     "output_type": "stream",
     "text": [
      "Val OKS: 0.00120231375831959\n"
     ]
    },
    {
     "name": "stderr",
     "output_type": "stream",
     "text": [
      "Epoch: 13: 100%|██████████| 713/713 [02:37<00:00,  4.53it/s]\n"
     ]
    },
    {
     "name": "stdout",
     "output_type": "stream",
     "text": [
      "Training loss: 586.2945150452945\n",
      "Train OKS: 0.001249394487852481\n"
     ]
    },
    {
     "name": "stderr",
     "output_type": "stream",
     "text": [
      "Epoch: 13: 100%|██████████| 204/204 [00:14<00:00, 14.04it/s]\n"
     ]
    },
    {
     "name": "stdout",
     "output_type": "stream",
     "text": [
      "Val OKS: 0.0012517054206305956\n"
     ]
    },
    {
     "name": "stderr",
     "output_type": "stream",
     "text": [
      "Epoch: 14: 100%|██████████| 713/713 [03:06<00:00,  3.82it/s]\n"
     ]
    },
    {
     "name": "stdout",
     "output_type": "stream",
     "text": [
      "Training loss: 587.30777157306\n",
      "Train OKS: 0.0013357094903529232\n"
     ]
    },
    {
     "name": "stderr",
     "output_type": "stream",
     "text": [
      "Epoch: 14: 100%|██████████| 204/204 [00:14<00:00, 13.99it/s]\n"
     ]
    },
    {
     "name": "stdout",
     "output_type": "stream",
     "text": [
      "Val OKS: 0.001408107582519664\n"
     ]
    },
    {
     "name": "stderr",
     "output_type": "stream",
     "text": [
      "Epoch: 15: 100%|██████████| 713/713 [02:37<00:00,  4.52it/s]\n"
     ]
    },
    {
     "name": "stdout",
     "output_type": "stream",
     "text": [
      "Training loss: 587.6664918789857\n",
      "Train OKS: 0.001368259146012716\n"
     ]
    },
    {
     "name": "stderr",
     "output_type": "stream",
     "text": [
      "Epoch: 15: 100%|██████████| 204/204 [00:14<00:00, 14.11it/s]\n"
     ]
    },
    {
     "name": "stdout",
     "output_type": "stream",
     "text": [
      "Val OKS: 0.0014613958825816214\n"
     ]
    },
    {
     "name": "stderr",
     "output_type": "stream",
     "text": [
      "Epoch: 16: 100%|██████████| 713/713 [02:58<00:00,  3.99it/s]\n"
     ]
    },
    {
     "name": "stdout",
     "output_type": "stream",
     "text": [
      "Training loss: 587.0101385129952\n",
      "Train OKS: 0.0013339793243155019\n"
     ]
    },
    {
     "name": "stderr",
     "output_type": "stream",
     "text": [
      "Epoch: 16: 100%|██████████| 204/204 [00:16<00:00, 12.21it/s]\n"
     ]
    },
    {
     "name": "stdout",
     "output_type": "stream",
     "text": [
      "Val OKS: 0.0012192278342159104\n"
     ]
    },
    {
     "name": "stderr",
     "output_type": "stream",
     "text": [
      "Epoch: 17: 100%|██████████| 713/713 [03:10<00:00,  3.73it/s]\n"
     ]
    },
    {
     "name": "stdout",
     "output_type": "stream",
     "text": [
      "Training loss: 586.5979589432854\n",
      "Train OKS: 0.0013114645030629561\n"
     ]
    },
    {
     "name": "stderr",
     "output_type": "stream",
     "text": [
      "Epoch: 17: 100%|██████████| 204/204 [00:17<00:00, 11.79it/s]\n"
     ]
    },
    {
     "name": "stdout",
     "output_type": "stream",
     "text": [
      "Val OKS: 0.0013921919437520996\n"
     ]
    },
    {
     "name": "stderr",
     "output_type": "stream",
     "text": [
      "Epoch: 18: 100%|██████████| 713/713 [03:02<00:00,  3.92it/s]\n"
     ]
    },
    {
     "name": "stdout",
     "output_type": "stream",
     "text": [
      "Training loss: 586.4270730038679\n",
      "Train OKS: 0.0013077201165125456\n"
     ]
    },
    {
     "name": "stderr",
     "output_type": "stream",
     "text": [
      "Epoch: 18: 100%|██████████| 204/204 [00:15<00:00, 13.51it/s]\n"
     ]
    },
    {
     "name": "stdout",
     "output_type": "stream",
     "text": [
      "Val OKS: 0.0013716972949408895\n"
     ]
    },
    {
     "name": "stderr",
     "output_type": "stream",
     "text": [
      "Epoch: 19: 100%|██████████| 713/713 [02:40<00:00,  4.43it/s]\n"
     ]
    },
    {
     "name": "stdout",
     "output_type": "stream",
     "text": [
      "Training loss: 586.1192707420231\n",
      "Train OKS: 0.0012727522039472701\n"
     ]
    },
    {
     "name": "stderr",
     "output_type": "stream",
     "text": [
      "Epoch: 19: 100%|██████████| 204/204 [00:14<00:00, 13.85it/s]\n"
     ]
    },
    {
     "name": "stdout",
     "output_type": "stream",
     "text": [
      "Val OKS: 0.0012401812533529893\n"
     ]
    },
    {
     "name": "stderr",
     "output_type": "stream",
     "text": [
      "Epoch: 20: 100%|██████████| 713/713 [03:06<00:00,  3.83it/s]\n"
     ]
    },
    {
     "name": "stdout",
     "output_type": "stream",
     "text": [
      "Training loss: 585.3009057172051\n",
      "Train OKS: 0.001351995966087266\n"
     ]
    },
    {
     "name": "stderr",
     "output_type": "stream",
     "text": [
      "Epoch: 20: 100%|██████████| 204/204 [00:16<00:00, 12.09it/s]\n"
     ]
    },
    {
     "name": "stdout",
     "output_type": "stream",
     "text": [
      "Val OKS: 0.001152986972517077\n"
     ]
    },
    {
     "name": "stderr",
     "output_type": "stream",
     "text": [
      "Epoch: 21: 100%|██████████| 713/713 [03:20<00:00,  3.55it/s]\n"
     ]
    },
    {
     "name": "stdout",
     "output_type": "stream",
     "text": [
      "Training loss: 586.3092835842309\n",
      "Train OKS: 0.0013045854728260752\n"
     ]
    },
    {
     "name": "stderr",
     "output_type": "stream",
     "text": [
      "Epoch: 21: 100%|██████████| 204/204 [00:17<00:00, 11.34it/s]\n"
     ]
    },
    {
     "name": "stdout",
     "output_type": "stream",
     "text": [
      "Val OKS: 0.0013216742263587446\n"
     ]
    },
    {
     "name": "stderr",
     "output_type": "stream",
     "text": [
      "Epoch: 22: 100%|██████████| 713/713 [02:59<00:00,  3.97it/s]\n"
     ]
    },
    {
     "name": "stdout",
     "output_type": "stream",
     "text": [
      "Training loss: 585.6317514042366\n",
      "Train OKS: 0.0012914960566367268\n"
     ]
    },
    {
     "name": "stderr",
     "output_type": "stream",
     "text": [
      "Epoch: 22: 100%|██████████| 204/204 [00:15<00:00, 13.09it/s]\n"
     ]
    },
    {
     "name": "stdout",
     "output_type": "stream",
     "text": [
      "Val OKS: 0.0013570128463307267\n"
     ]
    },
    {
     "name": "stderr",
     "output_type": "stream",
     "text": [
      "Epoch: 23: 100%|██████████| 713/713 [03:02<00:00,  3.90it/s]\n"
     ]
    },
    {
     "name": "stdout",
     "output_type": "stream",
     "text": [
      "Training loss: 585.4975345392214\n",
      "Train OKS: 0.0012679196012880443\n"
     ]
    },
    {
     "name": "stderr",
     "output_type": "stream",
     "text": [
      "Epoch: 23: 100%|██████████| 204/204 [00:17<00:00, 11.90it/s]\n"
     ]
    },
    {
     "name": "stdout",
     "output_type": "stream",
     "text": [
      "Val OKS: 0.001273877263485084\n"
     ]
    },
    {
     "name": "stderr",
     "output_type": "stream",
     "text": [
      "Epoch: 24: 100%|██████████| 713/713 [03:17<00:00,  3.61it/s]\n"
     ]
    },
    {
     "name": "stdout",
     "output_type": "stream",
     "text": [
      "Training loss: 585.1819543183101\n",
      "Train OKS: 0.0012774819946371454\n"
     ]
    },
    {
     "name": "stderr",
     "output_type": "stream",
     "text": [
      "Epoch: 24: 100%|██████████| 204/204 [00:17<00:00, 11.69it/s]\n"
     ]
    },
    {
     "name": "stdout",
     "output_type": "stream",
     "text": [
      "Val OKS: 0.0013426922078223062\n"
     ]
    },
    {
     "name": "stderr",
     "output_type": "stream",
     "text": [
      "Epoch: 25: 100%|██████████| 713/713 [03:11<00:00,  3.73it/s]\n"
     ]
    },
    {
     "name": "stdout",
     "output_type": "stream",
     "text": [
      "Training loss: 584.8094535067908\n",
      "Train OKS: 0.0013180057312379067\n"
     ]
    },
    {
     "name": "stderr",
     "output_type": "stream",
     "text": [
      "Epoch: 25: 100%|██████████| 204/204 [00:17<00:00, 11.83it/s]\n"
     ]
    },
    {
     "name": "stdout",
     "output_type": "stream",
     "text": [
      "Val OKS: 0.0013878334920980346\n"
     ]
    },
    {
     "name": "stderr",
     "output_type": "stream",
     "text": [
      "Epoch: 26: 100%|██████████| 713/713 [03:11<00:00,  3.72it/s]\n"
     ]
    },
    {
     "name": "stdout",
     "output_type": "stream",
     "text": [
      "Training loss: 585.0108872851015\n",
      "Train OKS: 0.001309610767799013\n"
     ]
    },
    {
     "name": "stderr",
     "output_type": "stream",
     "text": [
      "Epoch: 26: 100%|██████████| 204/204 [00:17<00:00, 11.86it/s]\n"
     ]
    },
    {
     "name": "stdout",
     "output_type": "stream",
     "text": [
      "Val OKS: 0.001247703900565995\n"
     ]
    },
    {
     "name": "stderr",
     "output_type": "stream",
     "text": [
      "Epoch: 27: 100%|██████████| 713/713 [03:08<00:00,  3.78it/s]\n"
     ]
    },
    {
     "name": "stdout",
     "output_type": "stream",
     "text": [
      "Training loss: 585.1681917894103\n",
      "Train OKS: 0.001280969973618849\n"
     ]
    },
    {
     "name": "stderr",
     "output_type": "stream",
     "text": [
      "Epoch: 27: 100%|██████████| 204/204 [00:17<00:00, 11.37it/s]\n"
     ]
    },
    {
     "name": "stdout",
     "output_type": "stream",
     "text": [
      "Val OKS: 0.001370064110274046\n"
     ]
    },
    {
     "name": "stderr",
     "output_type": "stream",
     "text": [
      "Epoch: 28: 100%|██████████| 713/713 [03:13<00:00,  3.68it/s]\n"
     ]
    },
    {
     "name": "stdout",
     "output_type": "stream",
     "text": [
      "Training loss: 584.8443134409515\n",
      "Train OKS: 0.0013609283475184558\n"
     ]
    },
    {
     "name": "stderr",
     "output_type": "stream",
     "text": [
      "Epoch: 28: 100%|██████████| 204/204 [00:17<00:00, 11.49it/s]\n"
     ]
    },
    {
     "name": "stdout",
     "output_type": "stream",
     "text": [
      "Val OKS: 0.001328032209996071\n"
     ]
    },
    {
     "name": "stderr",
     "output_type": "stream",
     "text": [
      "Epoch: 29: 100%|██████████| 713/713 [03:11<00:00,  3.72it/s]\n"
     ]
    },
    {
     "name": "stdout",
     "output_type": "stream",
     "text": [
      "Training loss: 583.9357118325681\n",
      "Train OKS: 0.0013151483874822628\n"
     ]
    },
    {
     "name": "stderr",
     "output_type": "stream",
     "text": [
      "Epoch: 29: 100%|██████████| 204/204 [00:17<00:00, 11.91it/s]\n"
     ]
    },
    {
     "name": "stdout",
     "output_type": "stream",
     "text": [
      "Val OKS: 0.001193151429301075\n"
     ]
    },
    {
     "name": "stderr",
     "output_type": "stream",
     "text": [
      "Epoch: 30: 100%|██████████| 713/713 [03:05<00:00,  3.83it/s]\n"
     ]
    },
    {
     "name": "stdout",
     "output_type": "stream",
     "text": [
      "Training loss: 585.0015526727407\n",
      "Train OKS: 0.0012865343283909461\n"
     ]
    },
    {
     "name": "stderr",
     "output_type": "stream",
     "text": [
      "Epoch: 30: 100%|██████████| 204/204 [00:17<00:00, 11.40it/s]\n"
     ]
    },
    {
     "name": "stdout",
     "output_type": "stream",
     "text": [
      "Val OKS: 0.0013215921747497163\n"
     ]
    },
    {
     "name": "stderr",
     "output_type": "stream",
     "text": [
      "Epoch: 31: 100%|██████████| 713/713 [03:09<00:00,  3.76it/s]\n"
     ]
    },
    {
     "name": "stdout",
     "output_type": "stream",
     "text": [
      "Training loss: 584.2069661486868\n",
      "Train OKS: 0.001384076188191639\n"
     ]
    },
    {
     "name": "stderr",
     "output_type": "stream",
     "text": [
      "Epoch: 31: 100%|██████████| 204/204 [00:17<00:00, 11.86it/s]\n"
     ]
    },
    {
     "name": "stdout",
     "output_type": "stream",
     "text": [
      "Val OKS: 0.0012177552725932987\n"
     ]
    },
    {
     "name": "stderr",
     "output_type": "stream",
     "text": [
      "Epoch: 32: 100%|██████████| 713/713 [03:19<00:00,  3.58it/s]\n"
     ]
    },
    {
     "name": "stdout",
     "output_type": "stream",
     "text": [
      "Training loss: 585.004173289509\n",
      "Train OKS: 0.0013429022146530065\n"
     ]
    },
    {
     "name": "stderr",
     "output_type": "stream",
     "text": [
      "Epoch: 32: 100%|██████████| 204/204 [00:18<00:00, 11.07it/s]\n"
     ]
    },
    {
     "name": "stdout",
     "output_type": "stream",
     "text": [
      "Val OKS: 0.001430259115881688\n"
     ]
    },
    {
     "name": "stderr",
     "output_type": "stream",
     "text": [
      "Epoch: 33: 100%|██████████| 713/713 [03:14<00:00,  3.66it/s]\n"
     ]
    },
    {
     "name": "stdout",
     "output_type": "stream",
     "text": [
      "Training loss: 584.1490098864969\n",
      "Train OKS: 0.0012717937470699847\n"
     ]
    },
    {
     "name": "stderr",
     "output_type": "stream",
     "text": [
      "Epoch: 33: 100%|██████████| 204/204 [00:17<00:00, 11.48it/s]\n"
     ]
    },
    {
     "name": "stdout",
     "output_type": "stream",
     "text": [
      "Val OKS: 0.0012442472304895994\n"
     ]
    },
    {
     "name": "stderr",
     "output_type": "stream",
     "text": [
      "Epoch: 34: 100%|██████████| 713/713 [03:09<00:00,  3.75it/s]\n"
     ]
    },
    {
     "name": "stdout",
     "output_type": "stream",
     "text": [
      "Training loss: 584.58230530898\n",
      "Train OKS: 0.001291370447253036\n"
     ]
    },
    {
     "name": "stderr",
     "output_type": "stream",
     "text": [
      "Epoch: 34: 100%|██████████| 204/204 [00:17<00:00, 11.98it/s]\n"
     ]
    },
    {
     "name": "stdout",
     "output_type": "stream",
     "text": [
      "Val OKS: 0.0014492717571807747\n"
     ]
    },
    {
     "name": "stderr",
     "output_type": "stream",
     "text": [
      "Epoch: 37: 100%|██████████| 713/713 [03:15<00:00,  3.65it/s]\n"
     ]
    },
    {
     "name": "stdout",
     "output_type": "stream",
     "text": [
      "Training loss: 584.0515230882385\n",
      "Train OKS: 0.0013123167302330897\n"
     ]
    },
    {
     "name": "stderr",
     "output_type": "stream",
     "text": [
      "Epoch: 37: 100%|██████████| 204/204 [00:22<00:00,  9.09it/s]\n"
     ]
    },
    {
     "name": "stdout",
     "output_type": "stream",
     "text": [
      "Val OKS: 0.0012929204895882355\n"
     ]
    },
    {
     "name": "stderr",
     "output_type": "stream",
     "text": [
      "Epoch: 38: 100%|██████████| 713/713 [03:38<00:00,  3.27it/s]\n"
     ]
    },
    {
     "name": "stdout",
     "output_type": "stream",
     "text": [
      "Training loss: 583.5230766820707\n",
      "Train OKS: 0.0013710074110167047\n"
     ]
    },
    {
     "name": "stderr",
     "output_type": "stream",
     "text": [
      "Epoch: 38: 100%|██████████| 204/204 [00:20<00:00,  9.82it/s]\n"
     ]
    },
    {
     "name": "stdout",
     "output_type": "stream",
     "text": [
      "Val OKS: 0.0012075889897704773\n"
     ]
    },
    {
     "name": "stderr",
     "output_type": "stream",
     "text": [
      "Epoch: 39: 100%|██████████| 713/713 [03:47<00:00,  3.13it/s]\n"
     ]
    },
    {
     "name": "stdout",
     "output_type": "stream",
     "text": [
      "Training loss: 583.9036308812895\n",
      "Train OKS: 0.0012718713306421841\n"
     ]
    },
    {
     "name": "stderr",
     "output_type": "stream",
     "text": [
      "Epoch: 39: 100%|██████████| 204/204 [00:25<00:00,  8.01it/s]\n"
     ]
    },
    {
     "name": "stdout",
     "output_type": "stream",
     "text": [
      "Val OKS: 0.0013869334123743048\n"
     ]
    },
    {
     "name": "stderr",
     "output_type": "stream",
     "text": [
      "Epoch: 40: 100%|██████████| 713/713 [04:38<00:00,  2.56it/s]\n"
     ]
    },
    {
     "name": "stdout",
     "output_type": "stream",
     "text": [
      "Training loss: 584.2830999730178\n",
      "Train OKS: 0.001333594253405923\n"
     ]
    },
    {
     "name": "stderr",
     "output_type": "stream",
     "text": [
      "Epoch: 40: 100%|██████████| 204/204 [00:19<00:00, 10.29it/s]\n"
     ]
    },
    {
     "name": "stdout",
     "output_type": "stream",
     "text": [
      "Val OKS: 0.0013351662977999672\n"
     ]
    },
    {
     "name": "stderr",
     "output_type": "stream",
     "text": [
      "Epoch: 41: 100%|██████████| 713/713 [03:58<00:00,  2.99it/s]\n"
     ]
    },
    {
     "name": "stdout",
     "output_type": "stream",
     "text": [
      "Training loss: 583.8816958476918\n",
      "Train OKS: 0.0013242942391876729\n"
     ]
    },
    {
     "name": "stderr",
     "output_type": "stream",
     "text": [
      "Epoch: 41: 100%|██████████| 204/204 [00:22<00:00,  9.05it/s]\n"
     ]
    },
    {
     "name": "stdout",
     "output_type": "stream",
     "text": [
      "Val OKS: 0.001208787150199448\n"
     ]
    },
    {
     "name": "stderr",
     "output_type": "stream",
     "text": [
      "Epoch: 42: 100%|██████████| 713/713 [04:18<00:00,  2.75it/s]\n"
     ]
    },
    {
     "name": "stdout",
     "output_type": "stream",
     "text": [
      "Training loss: 583.9028992726459\n",
      "Train OKS: 0.0012575534660331348\n"
     ]
    },
    {
     "name": "stderr",
     "output_type": "stream",
     "text": [
      "Epoch: 42: 100%|██████████| 204/204 [00:25<00:00,  7.96it/s]\n"
     ]
    },
    {
     "name": "stdout",
     "output_type": "stream",
     "text": [
      "Val OKS: 0.001294756835201371\n"
     ]
    },
    {
     "name": "stderr",
     "output_type": "stream",
     "text": [
      "Epoch: 43: 100%|██████████| 713/713 [04:06<00:00,  2.89it/s]\n"
     ]
    },
    {
     "name": "stdout",
     "output_type": "stream",
     "text": [
      "Training loss: 584.1556687963628\n",
      "Train OKS: 0.0013326969415028396\n"
     ]
    },
    {
     "name": "stderr",
     "output_type": "stream",
     "text": [
      "Epoch: 43: 100%|██████████| 204/204 [00:23<00:00,  8.78it/s]\n"
     ]
    },
    {
     "name": "stdout",
     "output_type": "stream",
     "text": [
      "Val OKS: 0.0012794999586067653\n"
     ]
    },
    {
     "name": "stderr",
     "output_type": "stream",
     "text": [
      "Epoch: 44: 100%|██████████| 713/713 [04:34<00:00,  2.59it/s]\n"
     ]
    },
    {
     "name": "stdout",
     "output_type": "stream",
     "text": [
      "Training loss: 583.9319079641206\n",
      "Train OKS: 0.0013008098830885834\n"
     ]
    },
    {
     "name": "stderr",
     "output_type": "stream",
     "text": [
      "Epoch: 44: 100%|██████████| 204/204 [00:19<00:00, 10.63it/s]\n"
     ]
    },
    {
     "name": "stdout",
     "output_type": "stream",
     "text": [
      "Val OKS: 0.0013103683821174734\n"
     ]
    },
    {
     "name": "stderr",
     "output_type": "stream",
     "text": [
      "Epoch: 45: 100%|██████████| 713/713 [10:11<00:00,  1.17it/s]  \n"
     ]
    },
    {
     "name": "stdout",
     "output_type": "stream",
     "text": [
      "Training loss: 583.2329322847042\n",
      "Train OKS: 0.0013531611640730033\n"
     ]
    },
    {
     "name": "stderr",
     "output_type": "stream",
     "text": [
      "Epoch: 45: 100%|██████████| 204/204 [00:23<00:00,  8.50it/s]\n"
     ]
    },
    {
     "name": "stdout",
     "output_type": "stream",
     "text": [
      "Val OKS: 0.0012532669394664559\n"
     ]
    },
    {
     "name": "stderr",
     "output_type": "stream",
     "text": [
      "Epoch: 46: 100%|██████████| 713/713 [05:27<00:00,  2.17it/s]\n"
     ]
    },
    {
     "name": "stdout",
     "output_type": "stream",
     "text": [
      "Training loss: 583.3699870276752\n",
      "Train OKS: 0.0012725595892461793\n"
     ]
    },
    {
     "name": "stderr",
     "output_type": "stream",
     "text": [
      "Epoch: 46: 100%|██████████| 204/204 [00:25<00:00,  8.10it/s]\n"
     ]
    },
    {
     "name": "stdout",
     "output_type": "stream",
     "text": [
      "Val OKS: 0.001217362083695492\n"
     ]
    },
    {
     "name": "stderr",
     "output_type": "stream",
     "text": [
      "Epoch: 47: 100%|██████████| 713/713 [04:27<00:00,  2.67it/s]\n"
     ]
    },
    {
     "name": "stdout",
     "output_type": "stream",
     "text": [
      "Training loss: 583.7918065995354\n",
      "Train OKS: 0.001283164255508528\n"
     ]
    },
    {
     "name": "stderr",
     "output_type": "stream",
     "text": [
      "Epoch: 47: 100%|██████████| 204/204 [00:23<00:00,  8.72it/s]\n"
     ]
    },
    {
     "name": "stdout",
     "output_type": "stream",
     "text": [
      "Val OKS: 0.0012700974549665997\n"
     ]
    },
    {
     "name": "stderr",
     "output_type": "stream",
     "text": [
      "Epoch: 48: 100%|██████████| 713/713 [04:59<00:00,  2.38it/s]\n"
     ]
    },
    {
     "name": "stdout",
     "output_type": "stream",
     "text": [
      "Training loss: 583.1226140646914\n",
      "Train OKS: 0.001274360767287764\n"
     ]
    },
    {
     "name": "stderr",
     "output_type": "stream",
     "text": [
      "Epoch: 48: 100%|██████████| 204/204 [00:25<00:00,  7.86it/s]\n"
     ]
    },
    {
     "name": "stdout",
     "output_type": "stream",
     "text": [
      "Val OKS: 0.0012662260520218582\n"
     ]
    },
    {
     "name": "stderr",
     "output_type": "stream",
     "text": [
      "Epoch: 50: 100%|██████████| 713/713 [04:59<00:00,  2.38it/s]\n"
     ]
    },
    {
     "name": "stdout",
     "output_type": "stream",
     "text": [
      "Training loss: 583.8132716709902\n",
      "Train OKS: 0.0013265298748527537\n"
     ]
    },
    {
     "name": "stderr",
     "output_type": "stream",
     "text": [
      "Epoch: 50: 100%|██████████| 204/204 [00:26<00:00,  7.67it/s]\n"
     ]
    },
    {
     "name": "stdout",
     "output_type": "stream",
     "text": [
      "Val OKS: 0.0012468144913783184\n"
     ]
    },
    {
     "name": "stderr",
     "output_type": "stream",
     "text": [
      "Epoch: 51: 100%|██████████| 713/713 [05:06<00:00,  2.32it/s]\n"
     ]
    },
    {
     "name": "stdout",
     "output_type": "stream",
     "text": [
      "Training loss: 583.43593568521\n",
      "Train OKS: 0.0012883667796823343\n"
     ]
    },
    {
     "name": "stderr",
     "output_type": "stream",
     "text": [
      "Epoch: 51: 100%|██████████| 204/204 [00:19<00:00, 10.68it/s]\n"
     ]
    },
    {
     "name": "stdout",
     "output_type": "stream",
     "text": [
      "Val OKS: 0.0012969603232008613\n"
     ]
    },
    {
     "name": "stderr",
     "output_type": "stream",
     "text": [
      "Epoch: 52: 100%|██████████| 713/713 [02:50<00:00,  4.18it/s]\n"
     ]
    },
    {
     "name": "stdout",
     "output_type": "stream",
     "text": [
      "Training loss: 583.358429211888\n",
      "Train OKS: 0.001320550102791935\n"
     ]
    },
    {
     "name": "stderr",
     "output_type": "stream",
     "text": [
      "Epoch: 52: 100%|██████████| 204/204 [00:14<00:00, 13.92it/s]\n"
     ]
    },
    {
     "name": "stdout",
     "output_type": "stream",
     "text": [
      "Val OKS: 0.0012010009474386733\n"
     ]
    },
    {
     "name": "stderr",
     "output_type": "stream",
     "text": [
      "Epoch: 53: 100%|██████████| 713/713 [02:38<00:00,  4.51it/s]\n"
     ]
    },
    {
     "name": "stdout",
     "output_type": "stream",
     "text": [
      "Training loss: 583.0600871424521\n",
      "Train OKS: 0.0013220481917335302\n"
     ]
    },
    {
     "name": "stderr",
     "output_type": "stream",
     "text": [
      "Epoch: 53: 100%|██████████| 204/204 [00:14<00:00, 14.19it/s]\n"
     ]
    },
    {
     "name": "stdout",
     "output_type": "stream",
     "text": [
      "Val OKS: 0.0012414408203730066\n"
     ]
    },
    {
     "name": "stderr",
     "output_type": "stream",
     "text": [
      "Epoch: 54: 100%|██████████| 713/713 [02:36<00:00,  4.55it/s]\n"
     ]
    },
    {
     "name": "stdout",
     "output_type": "stream",
     "text": [
      "Training loss: 583.2613567336244\n",
      "Train OKS: 0.001272964628516064\n"
     ]
    },
    {
     "name": "stderr",
     "output_type": "stream",
     "text": [
      "Epoch: 54: 100%|██████████| 204/204 [00:14<00:00, 14.30it/s]\n"
     ]
    },
    {
     "name": "stdout",
     "output_type": "stream",
     "text": [
      "Val OKS: 0.00126603279856448\n"
     ]
    },
    {
     "name": "stderr",
     "output_type": "stream",
     "text": [
      "Epoch: 55: 100%|██████████| 713/713 [02:37<00:00,  4.54it/s]\n"
     ]
    },
    {
     "name": "stdout",
     "output_type": "stream",
     "text": [
      "Training loss: 583.1897110049554\n",
      "Train OKS: 0.0012309243721599866\n"
     ]
    },
    {
     "name": "stderr",
     "output_type": "stream",
     "text": [
      "Epoch: 55: 100%|██████████| 204/204 [00:14<00:00, 13.91it/s]\n"
     ]
    },
    {
     "name": "stdout",
     "output_type": "stream",
     "text": [
      "Val OKS: 0.0012788162182256549\n"
     ]
    },
    {
     "name": "stderr",
     "output_type": "stream",
     "text": [
      "Epoch: 56: 100%|██████████| 713/713 [02:37<00:00,  4.51it/s]\n"
     ]
    },
    {
     "name": "stdout",
     "output_type": "stream",
     "text": [
      "Training loss: 583.2860247383278\n",
      "Train OKS: 0.0013165163774601497\n"
     ]
    },
    {
     "name": "stderr",
     "output_type": "stream",
     "text": [
      "Epoch: 56: 100%|██████████| 204/204 [00:15<00:00, 13.32it/s]\n"
     ]
    },
    {
     "name": "stdout",
     "output_type": "stream",
     "text": [
      "Val OKS: 0.001295525345091796\n"
     ]
    },
    {
     "name": "stderr",
     "output_type": "stream",
     "text": [
      "Epoch: 57: 100%|██████████| 713/713 [02:36<00:00,  4.54it/s]\n"
     ]
    },
    {
     "name": "stdout",
     "output_type": "stream",
     "text": [
      "Training loss: 583.2337477845865\n",
      "Train OKS: 0.001341100909100557\n"
     ]
    },
    {
     "name": "stderr",
     "output_type": "stream",
     "text": [
      "Epoch: 57: 100%|██████████| 204/204 [00:14<00:00, 14.25it/s]\n"
     ]
    },
    {
     "name": "stdout",
     "output_type": "stream",
     "text": [
      "Val OKS: 0.001263869978941364\n"
     ]
    },
    {
     "name": "stderr",
     "output_type": "stream",
     "text": [
      "Epoch: 58: 100%|██████████| 713/713 [02:38<00:00,  4.50it/s]\n"
     ]
    },
    {
     "name": "stdout",
     "output_type": "stream",
     "text": [
      "Training loss: 583.8572674466383\n",
      "Train OKS: 0.0012995897071718294\n"
     ]
    },
    {
     "name": "stderr",
     "output_type": "stream",
     "text": [
      "Epoch: 58: 100%|██████████| 204/204 [00:14<00:00, 14.00it/s]\n"
     ]
    },
    {
     "name": "stdout",
     "output_type": "stream",
     "text": [
      "Val OKS: 0.001231191863620783\n"
     ]
    },
    {
     "name": "stderr",
     "output_type": "stream",
     "text": [
      "Epoch: 59: 100%|██████████| 713/713 [02:37<00:00,  4.51it/s]\n"
     ]
    },
    {
     "name": "stdout",
     "output_type": "stream",
     "text": [
      "Training loss: 582.8810618696173\n",
      "Train OKS: 0.0012576269759533162\n"
     ]
    },
    {
     "name": "stderr",
     "output_type": "stream",
     "text": [
      "Epoch: 59: 100%|██████████| 204/204 [00:14<00:00, 13.98it/s]\n"
     ]
    },
    {
     "name": "stdout",
     "output_type": "stream",
     "text": [
      "Val OKS: 0.0013542400979035464\n"
     ]
    },
    {
     "name": "stderr",
     "output_type": "stream",
     "text": [
      "Epoch: 60: 100%|██████████| 713/713 [02:37<00:00,  4.52it/s]\n"
     ]
    },
    {
     "name": "stdout",
     "output_type": "stream",
     "text": [
      "Training loss: 583.3546563746385\n",
      "Train OKS: 0.001324061185538142\n"
     ]
    },
    {
     "name": "stderr",
     "output_type": "stream",
     "text": [
      "Epoch: 60: 100%|██████████| 204/204 [00:14<00:00, 14.13it/s]\n"
     ]
    },
    {
     "name": "stdout",
     "output_type": "stream",
     "text": [
      "Val OKS: 0.0013821497051611236\n"
     ]
    },
    {
     "name": "stderr",
     "output_type": "stream",
     "text": [
      "Epoch: 61: 100%|██████████| 713/713 [02:37<00:00,  4.52it/s]\n"
     ]
    },
    {
     "name": "stdout",
     "output_type": "stream",
     "text": [
      "Training loss: 582.8890878642592\n",
      "Train OKS: 0.0013249842116695618\n"
     ]
    },
    {
     "name": "stderr",
     "output_type": "stream",
     "text": [
      "Epoch: 61: 100%|██████████| 204/204 [00:14<00:00, 14.11it/s]\n"
     ]
    },
    {
     "name": "stdout",
     "output_type": "stream",
     "text": [
      "Val OKS: 0.001271703259022126\n"
     ]
    },
    {
     "name": "stderr",
     "output_type": "stream",
     "text": [
      "Epoch: 62: 100%|██████████| 713/713 [02:37<00:00,  4.52it/s]\n"
     ]
    },
    {
     "name": "stdout",
     "output_type": "stream",
     "text": [
      "Training loss: 582.2228940559804\n",
      "Train OKS: 0.0013758429632611546\n"
     ]
    },
    {
     "name": "stderr",
     "output_type": "stream",
     "text": [
      "Epoch: 62: 100%|██████████| 204/204 [00:14<00:00, 13.92it/s]\n"
     ]
    },
    {
     "name": "stdout",
     "output_type": "stream",
     "text": [
      "Val OKS: 0.0013046172500734336\n"
     ]
    },
    {
     "name": "stderr",
     "output_type": "stream",
     "text": [
      "Epoch: 63: 100%|██████████| 713/713 [02:37<00:00,  4.52it/s]\n"
     ]
    },
    {
     "name": "stdout",
     "output_type": "stream",
     "text": [
      "Training loss: 583.2022883561016\n",
      "Train OKS: 0.0012619758469699439\n"
     ]
    },
    {
     "name": "stderr",
     "output_type": "stream",
     "text": [
      "Epoch: 63: 100%|██████████| 204/204 [00:14<00:00, 14.15it/s]\n"
     ]
    },
    {
     "name": "stdout",
     "output_type": "stream",
     "text": [
      "Val OKS: 0.0014664165483293035\n"
     ]
    },
    {
     "name": "stderr",
     "output_type": "stream",
     "text": [
      "Epoch: 64: 100%|██████████| 713/713 [02:37<00:00,  4.52it/s]\n"
     ]
    },
    {
     "name": "stdout",
     "output_type": "stream",
     "text": [
      "Training loss: 582.9078302798064\n",
      "Train OKS: 0.0013016065349147436\n"
     ]
    },
    {
     "name": "stderr",
     "output_type": "stream",
     "text": [
      "Epoch: 64: 100%|██████████| 204/204 [00:14<00:00, 14.16it/s]\n"
     ]
    },
    {
     "name": "stdout",
     "output_type": "stream",
     "text": [
      "Val OKS: 0.0012884543606716738\n"
     ]
    },
    {
     "name": "stderr",
     "output_type": "stream",
     "text": [
      "Epoch: 65: 100%|██████████| 713/713 [02:39<00:00,  4.46it/s]\n"
     ]
    },
    {
     "name": "stdout",
     "output_type": "stream",
     "text": [
      "Training loss: 582.8808609158594\n",
      "Train OKS: 0.0012412402556791042\n"
     ]
    },
    {
     "name": "stderr",
     "output_type": "stream",
     "text": [
      "Epoch: 65: 100%|██████████| 204/204 [00:15<00:00, 13.16it/s]\n"
     ]
    },
    {
     "name": "stdout",
     "output_type": "stream",
     "text": [
      "Val OKS: 0.0014239951969280383\n"
     ]
    },
    {
     "name": "stderr",
     "output_type": "stream",
     "text": [
      "Epoch: 66: 100%|██████████| 713/713 [02:43<00:00,  4.36it/s]\n"
     ]
    },
    {
     "name": "stdout",
     "output_type": "stream",
     "text": [
      "Training loss: 583.0972912375088\n",
      "Train OKS: 0.0013303851637068652\n"
     ]
    },
    {
     "name": "stderr",
     "output_type": "stream",
     "text": [
      "Epoch: 66: 100%|██████████| 204/204 [00:14<00:00, 14.22it/s]\n"
     ]
    },
    {
     "name": "stdout",
     "output_type": "stream",
     "text": [
      "Val OKS: 0.0013796360681351811\n"
     ]
    },
    {
     "name": "stderr",
     "output_type": "stream",
     "text": [
      "Epoch: 67: 100%|██████████| 713/713 [02:36<00:00,  4.55it/s]\n"
     ]
    },
    {
     "name": "stdout",
     "output_type": "stream",
     "text": [
      "Training loss: 583.0837511487963\n",
      "Train OKS: 0.0012452409429756525\n"
     ]
    },
    {
     "name": "stderr",
     "output_type": "stream",
     "text": [
      "Epoch: 67: 100%|██████████| 204/204 [00:14<00:00, 14.31it/s]\n"
     ]
    },
    {
     "name": "stdout",
     "output_type": "stream",
     "text": [
      "Val OKS: 0.0014009302183761153\n"
     ]
    },
    {
     "name": "stderr",
     "output_type": "stream",
     "text": [
      "Epoch: 68: 100%|██████████| 713/713 [02:36<00:00,  4.55it/s]\n"
     ]
    },
    {
     "name": "stdout",
     "output_type": "stream",
     "text": [
      "Training loss: 583.4872742555252\n",
      "Train OKS: 0.0012698882930842323\n"
     ]
    },
    {
     "name": "stderr",
     "output_type": "stream",
     "text": [
      "Epoch: 68: 100%|██████████| 204/204 [00:14<00:00, 14.16it/s]\n"
     ]
    },
    {
     "name": "stdout",
     "output_type": "stream",
     "text": [
      "Val OKS: 0.0012568351573464865\n"
     ]
    },
    {
     "name": "stderr",
     "output_type": "stream",
     "text": [
      "Epoch: 69: 100%|██████████| 713/713 [02:36<00:00,  4.55it/s]\n"
     ]
    },
    {
     "name": "stdout",
     "output_type": "stream",
     "text": [
      "Training loss: 583.1427618724936\n",
      "Train OKS: 0.0012826343927878907\n"
     ]
    },
    {
     "name": "stderr",
     "output_type": "stream",
     "text": [
      "Epoch: 69: 100%|██████████| 204/204 [00:14<00:00, 14.07it/s]\n"
     ]
    },
    {
     "name": "stdout",
     "output_type": "stream",
     "text": [
      "Val OKS: 0.0014221451974122303\n"
     ]
    },
    {
     "name": "stderr",
     "output_type": "stream",
     "text": [
      "Epoch: 70: 100%|██████████| 713/713 [02:36<00:00,  4.55it/s]\n"
     ]
    },
    {
     "name": "stdout",
     "output_type": "stream",
     "text": [
      "Training loss: 583.0319719354702\n",
      "Train OKS: 0.0013594994835939157\n"
     ]
    },
    {
     "name": "stderr",
     "output_type": "stream",
     "text": [
      "Epoch: 70: 100%|██████████| 204/204 [00:14<00:00, 14.29it/s]\n"
     ]
    },
    {
     "name": "stdout",
     "output_type": "stream",
     "text": [
      "Val OKS: 0.0013288886509820006\n"
     ]
    },
    {
     "name": "stderr",
     "output_type": "stream",
     "text": [
      "Epoch: 71: 100%|██████████| 713/713 [02:36<00:00,  4.55it/s]\n"
     ]
    },
    {
     "name": "stdout",
     "output_type": "stream",
     "text": [
      "Training loss: 582.8867913844041\n",
      "Train OKS: 0.0012435039243093742\n"
     ]
    },
    {
     "name": "stderr",
     "output_type": "stream",
     "text": [
      "Epoch: 71: 100%|██████████| 204/204 [00:14<00:00, 14.21it/s]\n"
     ]
    },
    {
     "name": "stdout",
     "output_type": "stream",
     "text": [
      "Val OKS: 0.0014011415589488426\n"
     ]
    },
    {
     "name": "stderr",
     "output_type": "stream",
     "text": [
      "Epoch: 72: 100%|██████████| 713/713 [02:36<00:00,  4.55it/s]\n"
     ]
    },
    {
     "name": "stdout",
     "output_type": "stream",
     "text": [
      "Training loss: 582.749957027141\n",
      "Train OKS: 0.0013328764664699815\n"
     ]
    },
    {
     "name": "stderr",
     "output_type": "stream",
     "text": [
      "Epoch: 72: 100%|██████████| 204/204 [00:14<00:00, 14.08it/s]\n"
     ]
    },
    {
     "name": "stdout",
     "output_type": "stream",
     "text": [
      "Val OKS: 0.0011972881729473983\n"
     ]
    },
    {
     "name": "stderr",
     "output_type": "stream",
     "text": [
      "Epoch: 73: 100%|██████████| 713/713 [02:36<00:00,  4.55it/s]\n"
     ]
    },
    {
     "name": "stdout",
     "output_type": "stream",
     "text": [
      "Training loss: 582.9071743872857\n",
      "Train OKS: 0.0012941986383174706\n"
     ]
    },
    {
     "name": "stderr",
     "output_type": "stream",
     "text": [
      "Epoch: 73: 100%|██████████| 204/204 [00:14<00:00, 13.97it/s]\n"
     ]
    },
    {
     "name": "stdout",
     "output_type": "stream",
     "text": [
      "Val OKS: 0.0013766014528967076\n"
     ]
    },
    {
     "name": "stderr",
     "output_type": "stream",
     "text": [
      "Epoch: 74: 100%|██████████| 713/713 [02:37<00:00,  4.54it/s]\n"
     ]
    },
    {
     "name": "stdout",
     "output_type": "stream",
     "text": [
      "Training loss: 582.840658179841\n",
      "Train OKS: 0.001333305147108935\n"
     ]
    },
    {
     "name": "stderr",
     "output_type": "stream",
     "text": [
      "Epoch: 74: 100%|██████████| 204/204 [00:14<00:00, 14.21it/s]\n"
     ]
    },
    {
     "name": "stdout",
     "output_type": "stream",
     "text": [
      "Val OKS: 0.0012791345895213488\n"
     ]
    },
    {
     "name": "stderr",
     "output_type": "stream",
     "text": [
      "Epoch: 75: 100%|██████████| 713/713 [02:36<00:00,  4.55it/s]\n"
     ]
    },
    {
     "name": "stdout",
     "output_type": "stream",
     "text": [
      "Training loss: 582.8685542423628\n",
      "Train OKS: 0.00128119975228188\n"
     ]
    },
    {
     "name": "stderr",
     "output_type": "stream",
     "text": [
      "Epoch: 75: 100%|██████████| 204/204 [00:14<00:00, 14.28it/s]\n"
     ]
    },
    {
     "name": "stdout",
     "output_type": "stream",
     "text": [
      "Val OKS: 0.0012403487036033558\n"
     ]
    },
    {
     "name": "stderr",
     "output_type": "stream",
     "text": [
      "Epoch: 76: 100%|██████████| 713/713 [02:36<00:00,  4.55it/s]\n"
     ]
    },
    {
     "name": "stdout",
     "output_type": "stream",
     "text": [
      "Training loss: 583.1046580439029\n",
      "Train OKS: 0.001262532960303044\n"
     ]
    },
    {
     "name": "stderr",
     "output_type": "stream",
     "text": [
      "Epoch: 76: 100%|██████████| 204/204 [00:14<00:00, 14.07it/s]\n"
     ]
    },
    {
     "name": "stdout",
     "output_type": "stream",
     "text": [
      "Val OKS: 0.0012647298099529567\n"
     ]
    },
    {
     "name": "stderr",
     "output_type": "stream",
     "text": [
      "Epoch: 77: 100%|██████████| 713/713 [02:36<00:00,  4.55it/s]\n"
     ]
    },
    {
     "name": "stdout",
     "output_type": "stream",
     "text": [
      "Training loss: 582.7722101198173\n",
      "Train OKS: 0.001298949666136144\n"
     ]
    },
    {
     "name": "stderr",
     "output_type": "stream",
     "text": [
      "Epoch: 77: 100%|██████████| 204/204 [00:14<00:00, 14.11it/s]\n"
     ]
    },
    {
     "name": "stdout",
     "output_type": "stream",
     "text": [
      "Val OKS: 0.0013425956020156964\n"
     ]
    },
    {
     "name": "stderr",
     "output_type": "stream",
     "text": [
      "Epoch: 78: 100%|██████████| 713/713 [02:37<00:00,  4.54it/s]\n"
     ]
    },
    {
     "name": "stdout",
     "output_type": "stream",
     "text": [
      "Training loss: 582.8798038006497\n",
      "Train OKS: 0.0013404930094934589\n"
     ]
    },
    {
     "name": "stderr",
     "output_type": "stream",
     "text": [
      "Epoch: 78: 100%|██████████| 204/204 [00:14<00:00, 14.25it/s]\n"
     ]
    },
    {
     "name": "stdout",
     "output_type": "stream",
     "text": [
      "Val OKS: 0.0011925926318030974\n"
     ]
    },
    {
     "name": "stderr",
     "output_type": "stream",
     "text": [
      "Epoch: 79: 100%|██████████| 713/713 [02:50<00:00,  4.19it/s]\n"
     ]
    },
    {
     "name": "stdout",
     "output_type": "stream",
     "text": [
      "Training loss: 582.5911181691987\n",
      "Train OKS: 0.0012859653663466546\n"
     ]
    },
    {
     "name": "stderr",
     "output_type": "stream",
     "text": [
      "Epoch: 79: 100%|██████████| 204/204 [00:14<00:00, 14.12it/s]\n"
     ]
    },
    {
     "name": "stdout",
     "output_type": "stream",
     "text": [
      "Val OKS: 0.001360534126053003\n"
     ]
    },
    {
     "name": "stderr",
     "output_type": "stream",
     "text": [
      "Epoch: 80: 100%|██████████| 713/713 [02:39<00:00,  4.47it/s]\n"
     ]
    },
    {
     "name": "stdout",
     "output_type": "stream",
     "text": [
      "Training loss: 582.8872420858032\n",
      "Train OKS: 0.0012794251309756078\n"
     ]
    },
    {
     "name": "stderr",
     "output_type": "stream",
     "text": [
      "Epoch: 80: 100%|██████████| 204/204 [00:14<00:00, 14.19it/s]\n"
     ]
    },
    {
     "name": "stdout",
     "output_type": "stream",
     "text": [
      "Val OKS: 0.0013966870511006699\n"
     ]
    },
    {
     "name": "stderr",
     "output_type": "stream",
     "text": [
      "Epoch: 81: 100%|██████████| 713/713 [02:38<00:00,  4.49it/s]\n"
     ]
    },
    {
     "name": "stdout",
     "output_type": "stream",
     "text": [
      "Training loss: 582.745962263324\n",
      "Train OKS: 0.0012665173291038828\n"
     ]
    },
    {
     "name": "stderr",
     "output_type": "stream",
     "text": [
      "Epoch: 81: 100%|██████████| 204/204 [00:14<00:00, 13.73it/s]\n"
     ]
    },
    {
     "name": "stdout",
     "output_type": "stream",
     "text": [
      "Val OKS: 0.0012497096607823235\n"
     ]
    },
    {
     "name": "stderr",
     "output_type": "stream",
     "text": [
      "Epoch: 82: 100%|██████████| 713/713 [02:37<00:00,  4.54it/s]\n"
     ]
    },
    {
     "name": "stdout",
     "output_type": "stream",
     "text": [
      "Training loss: 582.9454988583943\n",
      "Train OKS: 0.0012960995425921127\n"
     ]
    },
    {
     "name": "stderr",
     "output_type": "stream",
     "text": [
      "Epoch: 82: 100%|██████████| 204/204 [00:15<00:00, 13.55it/s]\n"
     ]
    },
    {
     "name": "stdout",
     "output_type": "stream",
     "text": [
      "Val OKS: 0.0013858135347653228\n"
     ]
    },
    {
     "name": "stderr",
     "output_type": "stream",
     "text": [
      "Epoch: 83: 100%|██████████| 713/713 [03:08<00:00,  3.77it/s]\n"
     ]
    },
    {
     "name": "stdout",
     "output_type": "stream",
     "text": [
      "Training loss: 583.0888729229214\n",
      "Train OKS: 0.0013290513846170484\n"
     ]
    },
    {
     "name": "stderr",
     "output_type": "stream",
     "text": [
      "Epoch: 83: 100%|██████████| 204/204 [00:18<00:00, 10.82it/s]\n"
     ]
    },
    {
     "name": "stdout",
     "output_type": "stream",
     "text": [
      "Val OKS: 0.0013406712448050288\n"
     ]
    },
    {
     "name": "stderr",
     "output_type": "stream",
     "text": [
      "Epoch: 84: 100%|██████████| 713/713 [03:25<00:00,  3.47it/s]\n"
     ]
    },
    {
     "name": "stdout",
     "output_type": "stream",
     "text": [
      "Training loss: 582.40993218335\n",
      "Train OKS: 0.001329959710878241\n"
     ]
    },
    {
     "name": "stderr",
     "output_type": "stream",
     "text": [
      "Epoch: 84: 100%|██████████| 204/204 [00:18<00:00, 11.18it/s]\n"
     ]
    },
    {
     "name": "stdout",
     "output_type": "stream",
     "text": [
      "Val OKS: 0.0012358504691223826\n"
     ]
    },
    {
     "name": "stderr",
     "output_type": "stream",
     "text": [
      "Epoch: 85: 100%|██████████| 713/713 [03:15<00:00,  3.65it/s]\n"
     ]
    },
    {
     "name": "stdout",
     "output_type": "stream",
     "text": [
      "Training loss: 583.0711265874277\n",
      "Train OKS: 0.0012607110728568758\n"
     ]
    },
    {
     "name": "stderr",
     "output_type": "stream",
     "text": [
      "Epoch: 85: 100%|██████████| 204/204 [00:17<00:00, 11.60it/s]\n"
     ]
    },
    {
     "name": "stdout",
     "output_type": "stream",
     "text": [
      "Val OKS: 0.0012343772710254237\n"
     ]
    },
    {
     "name": "stderr",
     "output_type": "stream",
     "text": [
      "Epoch: 90: 100%|██████████| 713/713 [04:21<00:00,  2.73it/s]\n"
     ]
    },
    {
     "name": "stdout",
     "output_type": "stream",
     "text": [
      "Training loss: 582.486051369516\n",
      "Train OKS: 0.001304310071930958\n"
     ]
    },
    {
     "name": "stderr",
     "output_type": "stream",
     "text": [
      "Epoch: 90: 100%|██████████| 204/204 [00:18<00:00, 10.89it/s]\n"
     ]
    },
    {
     "name": "stdout",
     "output_type": "stream",
     "text": [
      "Val OKS: 0.0013081367673113118\n"
     ]
    },
    {
     "name": "stderr",
     "output_type": "stream",
     "text": [
      "Epoch: 91: 100%|██████████| 713/713 [03:18<00:00,  3.59it/s]\n"
     ]
    },
    {
     "name": "stdout",
     "output_type": "stream",
     "text": [
      "Training loss: 582.7767043789172\n",
      "Train OKS: 0.001292825971149453\n"
     ]
    },
    {
     "name": "stderr",
     "output_type": "stream",
     "text": [
      "Epoch: 91: 100%|██████████| 204/204 [00:17<00:00, 11.36it/s]\n"
     ]
    },
    {
     "name": "stdout",
     "output_type": "stream",
     "text": [
      "Val OKS: 0.0002548100011418643\n"
     ]
    },
    {
     "name": "stderr",
     "output_type": "stream",
     "text": [
      "Epoch: 92: 100%|██████████| 713/713 [03:18<00:00,  3.59it/s]\n"
     ]
    },
    {
     "name": "stdout",
     "output_type": "stream",
     "text": [
      "Training loss: 582.3955970539452\n",
      "Train OKS: 0.0012715047934827163\n"
     ]
    },
    {
     "name": "stderr",
     "output_type": "stream",
     "text": [
      "Epoch: 92: 100%|██████████| 204/204 [00:17<00:00, 11.40it/s]\n"
     ]
    },
    {
     "name": "stdout",
     "output_type": "stream",
     "text": [
      "Val OKS: 0.0012927721841647238\n"
     ]
    },
    {
     "name": "stderr",
     "output_type": "stream",
     "text": [
      "Epoch: 93: 100%|██████████| 713/713 [03:29<00:00,  3.41it/s]\n"
     ]
    },
    {
     "name": "stdout",
     "output_type": "stream",
     "text": [
      "Training loss: 582.8283704246745\n",
      "Train OKS: 0.0012863226596086354\n"
     ]
    },
    {
     "name": "stderr",
     "output_type": "stream",
     "text": [
      "Epoch: 93: 100%|██████████| 204/204 [00:18<00:00, 11.33it/s]\n"
     ]
    },
    {
     "name": "stdout",
     "output_type": "stream",
     "text": [
      "Val OKS: 0.001335645872124923\n"
     ]
    },
    {
     "name": "stderr",
     "output_type": "stream",
     "text": [
      "Epoch: 94: 100%|██████████| 713/713 [03:58<00:00,  2.99it/s]\n"
     ]
    },
    {
     "name": "stdout",
     "output_type": "stream",
     "text": [
      "Training loss: 582.3594475916024\n",
      "Train OKS: 0.0013260294432970025\n"
     ]
    },
    {
     "name": "stderr",
     "output_type": "stream",
     "text": [
      "Epoch: 94:  71%|███████   | 145/204 [00:13<00:05, 11.24it/s]"
     ]
    }
   ],
   "source": [
    "for epoch in range(EPOCHS):\n",
    "    \n",
    "    model.train()\n",
    "        \n",
    "    train_loss = []\n",
    "    train_predictions = []\n",
    "    train_targets = []\n",
    "    for batch, targets in tqdm(train_dataloader, desc=f\"Epoch: {epoch}\"):\n",
    "        optimizer.zero_grad()\n",
    "        \n",
    "        batch = batch.to(device)\n",
    "        targets = targets.to(device)\n",
    "        \n",
    "        predictions = model(batch)\n",
    "        \n",
    "        loss = criterion(predictions, targets) \n",
    "        loss.backward()\n",
    "        optimizer.step()\n",
    "\n",
    "        train_loss.append(loss.item())\n",
    "        \n",
    "        predictions = predictions.cpu().detach().numpy().reshape(-1, 3)\n",
    "        train_predictions.extend(predictions)\n",
    "        targets = targets.cpu().detach().numpy().reshape(-1, 3)\n",
    "        train_targets.extend(targets)\n",
    "    \n",
    "    train_targets = np.array(train_targets)\n",
    "    train_predictions = np.array(train_predictions)\n",
    "    print('Training loss:', np.mean(train_loss))\n",
    "    print('Train OKS:', oks(train_targets[:, :2], train_predictions[:, :2], train_targets[:, 2]))\n",
    "    \n",
    "    model.eval()\n",
    "        \n",
    "    val_predictions = []\n",
    "    val_targets = []\n",
    "    for batch, targets in tqdm(val_dataloader, desc=f\"Epoch: {epoch}\"):\n",
    "        \n",
    "        with torch.no_grad():\n",
    "        \n",
    "            batch = batch.to(device)\n",
    "            targets = targets.to(device)\n",
    "            predictions = model(batch)\n",
    "            \n",
    "            predictions = predictions.cpu().numpy().reshape(-1, 3)\n",
    "            val_predictions.extend(predictions)\n",
    "            targets = targets.cpu().numpy().reshape(-1, 3)\n",
    "            val_targets.extend(targets)\n",
    "        \n",
    "    val_targets = np.array(val_targets)\n",
    "    val_predictions = np.array(val_predictions)\n",
    "    print('Val OKS:', oks(val_targets[:, :2], val_predictions[:, :2], val_targets[:, 2]))"
   ]
  },
  {
   "cell_type": "code",
   "execution_count": 31,
   "id": "1dd01be7-edaf-4d85-867c-836224f39adf",
   "metadata": {},
   "outputs": [
    {
     "data": {
      "text/plain": [
       "<matplotlib.image.AxesImage at 0x7fdae49443d0>"
      ]
     },
     "execution_count": 31,
     "metadata": {},
     "output_type": "execute_result"
    },
    {
     "data": {
      "image/png": "[encoded data removed]",
      "text/plain": [
       "<Figure size 640x480 with 1 Axes>"
      ]
     },
     "metadata": {},
     "output_type": "display_data"
    }
   ],
   "source": [
    "val_id = 4\n",
    "image_name, relative_points = dataset[\"test\"][val_id]\n",
    "image = Image.open(image_name).convert('RGB')\n",
    "image = np.asarray(image)\n",
    "pred = model(train_dataset.preprocessing(image=image)['image'].unsqueeze(0).to(device))\n",
    "pred = pred.cpu().detach().numpy()[0]\n",
    "\n",
    "height, width, _ = image.shape\n",
    "\n",
    "points = pred.reshape(-1, 2)\n",
    "\n",
    "for x, y in points:\n",
    "    x = int(x)\n",
    "    y = int(y)\n",
    "    cv2.circle(image, (x, y), 0, (0, 255, 0), 2)\n",
    "plt.imshow(image)"
   ]
  },
  {
   "cell_type": "code",
   "execution_count": 36,
   "id": "1c8d3e92-8a5b-41ab-8078-4c103ddcec60",
   "metadata": {},
   "outputs": [
    {
     "data": {
      "text/plain": [
       "<matplotlib.image.AxesImage at 0x7fdb21d5d250>"
      ]
     },
     "execution_count": 36,
     "metadata": {},
     "output_type": "execute_result"
    },
    {
     "data": {
      "image/png": "[encoded data removed]",
      "text/plain": [
       "<Figure size 640x480 with 1 Axes>"
      ]
     },
     "metadata": {},
     "output_type": "display_data"
    }
   ],
   "source": [
    "val_id = 11\n",
    "image_name, relative_points = dataset[\"test\"][val_id]\n",
    "image = Image.open(image_name).convert('RGB')\n",
    "image = np.asarray(image)\n",
    "pred = model(train_dataset.preprocessing(image=image)['image'].unsqueeze(0).to(device))\n",
    "pred = pred.cpu().detach().numpy()[0]\n",
    "\n",
    "height, width, _ = image.shape\n",
    "\n",
    "points = pred.reshape(-1, 2)\n",
    "\n",
    "for x, y in points:\n",
    "    x = int(x)\n",
    "    y = int(y)\n",
    "    cv2.circle(image, (x, y), 0, (0, 255, 0), 2)\n",
    "plt.imshow(image)"
   ]
  },
  {
   "cell_type": "markdown",
   "id": "e35f8116-ab89-446b-a3ad-923fad9b59eb",
   "metadata": {},
   "source": [
    "# Сравнение с другими моделями"
   ]
  },
  {
   "cell_type": "code",
   "execution_count": 37,
   "id": "91c0fe96-8c68-4f0d-bd1e-d1767e7d9aa2",
   "metadata": {},
   "outputs": [],
   "source": [
    "test_dataset = KeypointsDataset(meta=dataset[\"test\"])\n",
    "test_dataloader = DataLoader(val_dataset, batch_size=batch_size, shuffle=False, num_workers=0)"
   ]
  },
  {
   "cell_type": "code",
   "execution_count": 40,
   "id": "6a567611-e314-4a38-bd47-fe26bdf83785",
   "metadata": {},
   "outputs": [],
   "source": [
    "model.eval()\n",
    "        \n",
    "val_predictions = []\n",
    "val_targets = []\n",
    "for batch, targets in test_dataloader:\n",
    "\n",
    "    with torch.no_grad():\n",
    "\n",
    "        batch = batch.to(device)\n",
    "        targets = targets.to(device)\n",
    "        predictions = model(batch)\n",
    "\n",
    "        predictions = predictions.cpu().numpy().reshape(-1, 3)\n",
    "        val_predictions.extend(predictions)\n",
    "        targets = targets.cpu().numpy().reshape(-1, 3)\n",
    "        val_targets.extend(targets)\n",
    "\n",
    "val_targets.append(val_targets)\n",
    "val_predictions.append(val_predictions)"
   ]
  },
  {
   "cell_type": "code",
   "execution_count": 48,
   "id": "9e0dbffd-612a-446a-9eb5-70d9e15b3c1c",
   "metadata": {},
   "outputs": [],
   "source": [
    "val_targets = [list(i) for i in val_targets]"
   ]
  },
  {
   "cell_type": "code",
   "execution_count": 50,
   "id": "dd7a2076-a672-46fb-820f-52280962a245",
   "metadata": {},
   "outputs": [],
   "source": [
    "val_targets = [x for y in val_targets for x in y]"
   ]
  },
  {
   "cell_type": "code",
   "execution_count": 51,
   "id": "4d6862b9-4edd-4510-9389-f9220fe7b0bf",
   "metadata": {},
   "outputs": [],
   "source": [
    "val_predictions = [list(i) for i in val_predictions]\n",
    "val_predictions = [x for y in val_predictions for x in y]"
   ]
  },
  {
   "cell_type": "code",
   "execution_count": 74,
   "id": "b91acc60-5ff9-4002-b7b3-d74002560de5",
   "metadata": {},
   "outputs": [],
   "source": [
    "val_predictions = val_predictions[:200000]\n",
    "val_targets = val_targets[:200000]"
   ]
  },
  {
   "cell_type": "markdown",
   "id": "412966dc-bae7-4d2f-81c3-76ea472c2604",
   "metadata": {},
   "source": [
    "## Метрика -- MSE"
   ]
  },
  {
   "cell_type": "code",
   "execution_count": 59,
   "id": "3d031b05-12a5-4434-a34e-5719c01b6871",
   "metadata": {},
   "outputs": [],
   "source": [
    "from sklearn.metrics import mean_squared_error"
   ]
  },
  {
   "cell_type": "code",
   "execution_count": 80,
   "id": "9307e20c-d16d-4ca0-a1e0-c7f92f5d3365",
   "metadata": {},
   "outputs": [],
   "source": [
    "mse_own_model = mean_squared_error(val_targets, val_predictions)"
   ]
  },
  {
   "cell_type": "code",
   "execution_count": 82,
   "id": "78f6dacf-9bbd-44f7-a8bf-b69dc5edc48f",
   "metadata": {},
   "outputs": [],
   "source": [
    "import mediapipe as mp"
   ]
  },
  {
   "cell_type": "code",
   "execution_count": 83,
   "id": "46b7884e-7057-444e-8b7c-127ba69f6ed3",
   "metadata": {},
   "outputs": [
    {
     "name": "stderr",
     "output_type": "stream",
     "text": [
      "INFO: Created TensorFlow Lite XNNPACK delegate for CPU.\n"
     ]
    }
   ],
   "source": [
    "mp_model = mp.solutions.hands.Hands(static_image_mode=False, max_num_hands=1, min_detection_confidence=0.5)"
   ]
  },
  {
   "cell_type": "code",
   "execution_count": 111,
   "id": "9c8dd591-f824-4fdd-af1d-a1dee4dfba0a",
   "metadata": {},
   "outputs": [
    {
     "name": "stderr",
     "output_type": "stream",
     "text": [
      "100%|██████████| 3256/3256 [01:46<00:00, 30.48it/s]\n"
     ]
    }
   ],
   "source": [
    "true_values, mediapipe_preds = [], []\n",
    "for im_path, points in tqdm(dataset[\"test\"]):\n",
    "    \n",
    "    image = cv2.imread(im_path)\n",
    "    image_rgb = cv2.cvtColor(image, cv2.COLOR_BGR2RGB)\n",
    "    img_resize = cv2.resize(image_rgb, (224, 224), interpolation = cv2.INTER_AREA)\n",
    "    results = mp_model.process(image_rgb)\n",
    "    if results.multi_hand_landmarks:\n",
    "        results_xy = []\n",
    "        for hand_landmarks in results.multi_hand_landmarks:\n",
    "            for landmark in hand_landmarks.landmark:\n",
    "                results_xy.append(landmark.x)\n",
    "                results_xy.append(landmark.y)\n",
    "        mediapipe_preds.append(results_xy)\n",
    "        \n",
    "        y_true = [x for y in points for x in y]\n",
    "        true_values.append(y_true)"
   ]
  },
  {
   "cell_type": "code",
   "execution_count": 113,
   "id": "c7a97a98-72d6-4324-84d2-e16d5b8c8f28",
   "metadata": {},
   "outputs": [],
   "source": [
    "tr = [x for y in true_values for x in y]"
   ]
  },
  {
   "cell_type": "code",
   "execution_count": 114,
   "id": "c2d59df7-6a4d-488b-a6b2-33d3c8b426fa",
   "metadata": {},
   "outputs": [],
   "source": [
    "pr = [x for y in mediapipe_preds for x in y]"
   ]
  },
  {
   "cell_type": "code",
   "execution_count": 116,
   "id": "4b003fbb-c98f-496c-8f40-06cd5fb551e7",
   "metadata": {},
   "outputs": [],
   "source": [
    "mediapipe_MSE = mean_squared_error(tr, pr)"
   ]
  },
  {
   "cell_type": "code",
   "execution_count": 117,
   "id": "98e09ba2-3d7b-4b82-8406-820b33919817",
   "metadata": {},
   "outputs": [
    {
     "name": "stdout",
     "output_type": "stream",
     "text": [
      "MSE нашей модели: 3486.441162109375\n",
      "MSE mediapipe: 0.003327881874557315\n"
     ]
    }
   ],
   "source": [
    "print(f\"MSE нашей модели: {mse_own_model}\")\n",
    "print(f\"MSE mediapipe: {mediapipe_MSE}\")"
   ]
  },
  {
   "cell_type": "markdown",
   "id": "487de351-99c6-41f9-8359-3f92e18f589f",
   "metadata": {},
   "source": [
    "Такие дела..."
   ]
  }
 ],
 "metadata": {
  "kernelspec": {
   "display_name": "Python 3 (ipykernel)",
   "language": "python",
   "name": "python3"
  },
  "language_info": {
   "codemirror_mode": {
    "name": "ipython",
    "version": 3
   },
   "file_extension": ".py",
   "mimetype": "text/x-python",
   "name": "python",
   "nbconvert_exporter": "python",
   "pygments_lexer": "ipython3",
   "version": "3.9.16"
  }
 },
 "nbformat": 4,
 "nbformat_minor": 5
}
